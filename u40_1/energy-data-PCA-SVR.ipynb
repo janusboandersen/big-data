{
 "cells": [
  {
   "cell_type": "markdown",
   "metadata": {},
   "source": [
    "# PCA and SVR Analysis\n",
    "## Using the data on electricity production in Denmark\n",
    "Figure out the largest contributing factors to CO2 emissions using PCA"
   ]
  },
  {
   "cell_type": "code",
   "execution_count": 1,
   "metadata": {},
   "outputs": [],
   "source": [
    "import pandas as pd\n",
    "from pandas import DataFrame\n"
   ]
  },
  {
   "cell_type": "code",
   "execution_count": 2,
   "metadata": {},
   "outputs": [],
   "source": [
    "h_start = 0    # start of header names, inclusive\n",
    "h_end = 20     # end of header names, exclusive\n",
    "d_start = 22   # start of data values,\n",
    "dates = [0,]   # Column zero is a date and Pandas must interpret it as a date"
   ]
  },
  {
   "cell_type": "code",
   "execution_count": 3,
   "metadata": {},
   "outputs": [],
   "source": [
    "with open(\"20161208_onlinedata.csv\", encoding=\"latin1\") as f:\n",
    "    data_fields = f.readlines()[h_start:h_end]\n",
    "    f.seek(0,0)\n",
    "    data_values = pd.read_csv(f, skiprows=d_start-1, sep=';', infer_datetime_format=True, parse_dates=dates)"
   ]
  },
  {
   "cell_type": "code",
   "execution_count": 4,
   "metadata": {},
   "outputs": [],
   "source": [
    "# Clean leading and trailing spaces, tabs, newlines\n",
    "# split on first space only, and then only take the text field -> ['first header name', 'second header name']\n",
    "headers = [d.strip() for d in data_fields]\n",
    "headers = [h.split(\" \", maxsplit=1)[1] for h in headers] "
   ]
  },
  {
   "cell_type": "code",
   "execution_count": 5,
   "metadata": {},
   "outputs": [],
   "source": [
    "# Insert the name of the time column\n",
    "headers.insert(0, \"Dato og tid\")"
   ]
  },
  {
   "cell_type": "code",
   "execution_count": 6,
   "metadata": {},
   "outputs": [],
   "source": [
    "# Drop the last empty column\n",
    "data_values = data_values.drop('Unnamed: 21', axis=1)  # We drop column with name 21, on the 1st axis (columns)"
   ]
  },
  {
   "cell_type": "code",
   "execution_count": 7,
   "metadata": {},
   "outputs": [],
   "source": [
    "# Make a new final object\n",
    "df = data_values.copy(deep=True)\n",
    "\n",
    "# Set the header names\n",
    "df.columns = headers\n",
    "\n",
    "# Set the Date to be the index\n",
    "df = df.set_index(df.columns[0])"
   ]
  },
  {
   "cell_type": "markdown",
   "metadata": {},
   "source": [
    "## We now have a final dataset\n",
    "Now, begin to make it ready for PCA"
   ]
  },
  {
   "cell_type": "code",
   "execution_count": 8,
   "metadata": {},
   "outputs": [],
   "source": [
    "# Create a df to do PCA on\n",
    "df2 = df.copy(deep=True)"
   ]
  },
  {
   "cell_type": "code",
   "execution_count": 9,
   "metadata": {},
   "outputs": [],
   "source": [
    "# Pop out the CO2 column and save it\n",
    "CO2 = df2.pop('CO2 udledning')"
   ]
  },
  {
   "cell_type": "code",
   "execution_count": 10,
   "metadata": {},
   "outputs": [],
   "source": [
    "# Pop off and discard the two unusable columns\n",
    "df2.pop('Vindhastighed i Malling');\n",
    "df2.pop('Temperatur i Malling');"
   ]
  },
  {
   "cell_type": "markdown",
   "metadata": {},
   "source": [
    "### Import PCA model"
   ]
  },
  {
   "cell_type": "code",
   "execution_count": 11,
   "metadata": {},
   "outputs": [],
   "source": [
    "import numpy as np\n",
    "from sklearn.decomposition import PCA"
   ]
  },
  {
   "cell_type": "code",
   "execution_count": 12,
   "metadata": {},
   "outputs": [],
   "source": [
    "pca_model = PCA(n_components=1)"
   ]
  },
  {
   "cell_type": "markdown",
   "metadata": {},
   "source": [
    "Attempt to make a model with just one component, i.e. make 1 new variable by combining the 20 old variables into 1 new variable"
   ]
  },
  {
   "cell_type": "code",
   "execution_count": 13,
   "metadata": {},
   "outputs": [
    {
     "data": {
      "text/plain": [
       "PCA(n_components=1)"
      ]
     },
     "execution_count": 13,
     "metadata": {},
     "output_type": "execute_result"
    }
   ],
   "source": [
    "pca_model.fit(df2)"
   ]
  },
  {
   "cell_type": "markdown",
   "metadata": {},
   "source": [
    "Show how many percent of total variance in the data can be explained with just the 1 component"
   ]
  },
  {
   "cell_type": "code",
   "execution_count": 14,
   "metadata": {},
   "outputs": [
    {
     "name": "stdout",
     "output_type": "stream",
     "text": [
      "[0.79257213]\n"
     ]
    }
   ],
   "source": [
    "print(pca_model.explained_variance_ratio_)"
   ]
  },
  {
   "cell_type": "code",
   "execution_count": 15,
   "metadata": {},
   "outputs": [
    {
     "data": {
      "text/plain": [
       "[(0.12597996986359525, 'Centrale kraftværker DK1'),\n",
       " (0.012639045915224245, 'Centrale kraftværker DK2'),\n",
       " (0.059873862966092824, 'Decentrale kraftværker DK1'),\n",
       " (0.01481577297282811, 'Decentrale kraftværker DK2'),\n",
       " (-0.44167102846258777, 'Vindmøller DK1'),\n",
       " (-0.07026999074319044, 'Vindmøller DK2'),\n",
       " (0.6743662578385146, 'Udveksling Jylland-Norge'),\n",
       " (-0.06515162528706121, 'Udveksling Jylland-Sverige'),\n",
       " (-0.15354756286331547, 'Udveksling Jylland-Tyskland'),\n",
       " (0.3009366106917083, 'Udveksling Sjælland-Sverige'),\n",
       " (-0.07732449721545338, 'Udveksling Sjælland-Tyskland'),\n",
       " (0.001093797833095818, 'Udveksling Bornholm-Sverige'),\n",
       " (0.009799592537681373, 'Udveksling Fyn-Sjaelland'),\n",
       " (-0.06904898350365901, 'Havmøller DK'),\n",
       " (-0.4428941383377205, 'Landmøller DK'),\n",
       " (-0.00042083450054026346, 'Solceller DK1'),\n",
       " (-3.396703926453231e-05, 'Solceller DK2')]"
      ]
     },
     "execution_count": 15,
     "metadata": {},
     "output_type": "execute_result"
    }
   ],
   "source": [
    "z = zip(pca_model.components_.T[:,0], df2.columns.T)\n",
    "list(z)"
   ]
  },
  {
   "cell_type": "markdown",
   "metadata": {},
   "source": [
    "Perform the transformation, i.e. make the new variable by applying weights to each column and taking sum"
   ]
  },
  {
   "cell_type": "code",
   "execution_count": 16,
   "metadata": {},
   "outputs": [],
   "source": [
    "x = pca_model.fit(df2).transform(df2)"
   ]
  },
  {
   "cell_type": "markdown",
   "metadata": {},
   "source": [
    "Make a small new dataset with the CO2 data and the new PCA variable"
   ]
  },
  {
   "cell_type": "code",
   "execution_count": 17,
   "metadata": {},
   "outputs": [],
   "source": [
    "cmp = CO2.to_frame()  # Make the Series object into a DataFrame\n",
    "cmp[\"PCA\"] = x[:,0]   # Make a new column with the PCA variable"
   ]
  },
  {
   "cell_type": "code",
   "execution_count": 18,
   "metadata": {},
   "outputs": [
    {
     "data": {
      "text/html": [
       "<div>\n",
       "<style scoped>\n",
       "    .dataframe tbody tr th:only-of-type {\n",
       "        vertical-align: middle;\n",
       "    }\n",
       "\n",
       "    .dataframe tbody tr th {\n",
       "        vertical-align: top;\n",
       "    }\n",
       "\n",
       "    .dataframe thead th {\n",
       "        text-align: right;\n",
       "    }\n",
       "</style>\n",
       "<table border=\"1\" class=\"dataframe\">\n",
       "  <thead>\n",
       "    <tr style=\"text-align: right;\">\n",
       "      <th></th>\n",
       "      <th>CO2 udledning</th>\n",
       "      <th>PCA</th>\n",
       "    </tr>\n",
       "    <tr>\n",
       "      <th>Dato og tid</th>\n",
       "      <th></th>\n",
       "      <th></th>\n",
       "    </tr>\n",
       "  </thead>\n",
       "  <tbody>\n",
       "    <tr>\n",
       "      <th>2016-12-08 00:00:00</th>\n",
       "      <td>190</td>\n",
       "      <td>-1771.556285</td>\n",
       "    </tr>\n",
       "    <tr>\n",
       "      <th>2016-12-08 00:05:00</th>\n",
       "      <td>184</td>\n",
       "      <td>-1815.747534</td>\n",
       "    </tr>\n",
       "    <tr>\n",
       "      <th>2016-12-08 00:10:00</th>\n",
       "      <td>180</td>\n",
       "      <td>-1823.303024</td>\n",
       "    </tr>\n",
       "    <tr>\n",
       "      <th>2016-12-08 00:15:00</th>\n",
       "      <td>175</td>\n",
       "      <td>-1813.974267</td>\n",
       "    </tr>\n",
       "    <tr>\n",
       "      <th>2016-12-08 00:20:00</th>\n",
       "      <td>170</td>\n",
       "      <td>-1833.460103</td>\n",
       "    </tr>\n",
       "    <tr>\n",
       "      <th>...</th>\n",
       "      <td>...</td>\n",
       "      <td>...</td>\n",
       "    </tr>\n",
       "    <tr>\n",
       "      <th>2016-12-08 23:35:00</th>\n",
       "      <td>292</td>\n",
       "      <td>33.259697</td>\n",
       "    </tr>\n",
       "    <tr>\n",
       "      <th>2016-12-08 23:40:00</th>\n",
       "      <td>294</td>\n",
       "      <td>46.548923</td>\n",
       "    </tr>\n",
       "    <tr>\n",
       "      <th>2016-12-08 23:45:00</th>\n",
       "      <td>297</td>\n",
       "      <td>66.868377</td>\n",
       "    </tr>\n",
       "    <tr>\n",
       "      <th>2016-12-08 23:50:00</th>\n",
       "      <td>299</td>\n",
       "      <td>66.033229</td>\n",
       "    </tr>\n",
       "    <tr>\n",
       "      <th>2016-12-08 23:55:00</th>\n",
       "      <td>299</td>\n",
       "      <td>73.095850</td>\n",
       "    </tr>\n",
       "  </tbody>\n",
       "</table>\n",
       "<p>288 rows × 2 columns</p>\n",
       "</div>"
      ],
      "text/plain": [
       "                     CO2 udledning          PCA\n",
       "Dato og tid                                    \n",
       "2016-12-08 00:00:00            190 -1771.556285\n",
       "2016-12-08 00:05:00            184 -1815.747534\n",
       "2016-12-08 00:10:00            180 -1823.303024\n",
       "2016-12-08 00:15:00            175 -1813.974267\n",
       "2016-12-08 00:20:00            170 -1833.460103\n",
       "...                            ...          ...\n",
       "2016-12-08 23:35:00            292    33.259697\n",
       "2016-12-08 23:40:00            294    46.548923\n",
       "2016-12-08 23:45:00            297    66.868377\n",
       "2016-12-08 23:50:00            299    66.033229\n",
       "2016-12-08 23:55:00            299    73.095850\n",
       "\n",
       "[288 rows x 2 columns]"
      ]
     },
     "execution_count": 18,
     "metadata": {},
     "output_type": "execute_result"
    }
   ],
   "source": [
    "cmp"
   ]
  },
  {
   "cell_type": "markdown",
   "metadata": {},
   "source": [
    "### Look at the results\n",
    "Compare the CO2 value to the 1 new variable.\n",
    "We plot on different axes, as the two series are not equally scaled\n",
    "\n",
    "Use seaborn to make it look nicer"
   ]
  },
  {
   "cell_type": "code",
   "execution_count": 19,
   "metadata": {},
   "outputs": [],
   "source": [
    "import matplotlib.pyplot as plt\n",
    "import seaborn as sns\n",
    "sns.set_theme()"
   ]
  },
  {
   "cell_type": "code",
   "execution_count": 20,
   "metadata": {},
   "outputs": [
    {
     "data": {
      "image/png": "[encoded data removed]",
      "text/plain": [
       "<Figure size 720x360 with 2 Axes>"
      ]
     },
     "metadata": {},
     "output_type": "display_data"
    }
   ],
   "source": [
    "plt.figure(figsize=(10,5))\n",
    "sns.lineplot(data=cmp['CO2 udledning'], color=\"g\");\n",
    "ax2 = plt.twinx()\n",
    "sns.lineplot(data=cmp['PCA'], color=\"b\", ax=ax2);"
   ]
  },
  {
   "cell_type": "markdown",
   "metadata": {},
   "source": [
    "This shows how the new single variable explains most of the variation in CO2 emissions."
   ]
  },
  {
   "cell_type": "markdown",
   "metadata": {},
   "source": [
    "# SVR Regression model"
   ]
  },
  {
   "cell_type": "code",
   "execution_count": 72,
   "metadata": {},
   "outputs": [],
   "source": [
    "from sklearn.svm import SVR"
   ]
  },
  {
   "cell_type": "code",
   "execution_count": 56,
   "metadata": {},
   "outputs": [],
   "source": [
    "SVR?"
   ]
  },
  {
   "cell_type": "code",
   "execution_count": 73,
   "metadata": {},
   "outputs": [],
   "source": [
    "svr_rbf = SVR(kernel='rbf')\n",
    "svr_lin = SVR(kernel='linear')\n",
    "svr_poly = SVR(kernel='poly')"
   ]
  },
  {
   "cell_type": "markdown",
   "metadata": {},
   "source": [
    "### Set up independent variable matrix"
   ]
  },
  {
   "cell_type": "code",
   "execution_count": 74,
   "metadata": {},
   "outputs": [],
   "source": [
    "X = df.drop(\n",
    "    columns=['Vindmøller DK1', \n",
    "             'Vindmøller DK2', \n",
    "             'Temperatur i Malling', \n",
    "             'Vindhastighed i Malling', \n",
    "             'Havmøller DK', \n",
    "             'Landmøller DK',\n",
    "             'Solceller DK1',\n",
    "             'Solceller DK2']\n",
    ")"
   ]
  },
  {
   "cell_type": "markdown",
   "metadata": {},
   "source": [
    "### Set up dependent variable"
   ]
  },
  {
   "cell_type": "code",
   "execution_count": 75,
   "metadata": {},
   "outputs": [],
   "source": [
    "y = X.pop('CO2 udledning')"
   ]
  },
  {
   "cell_type": "markdown",
   "metadata": {},
   "source": [
    "### Fit the models on the energy production data"
   ]
  },
  {
   "cell_type": "code",
   "execution_count": 76,
   "metadata": {},
   "outputs": [
    {
     "data": {
      "text/plain": [
       "SVR(kernel='poly')"
      ]
     },
     "execution_count": 76,
     "metadata": {},
     "output_type": "execute_result"
    }
   ],
   "source": [
    "svr_rbf.fit(X,y)\n",
    "svr_lin.fit(X,y)\n",
    "svr_poly.fit(X,y)"
   ]
  },
  {
   "cell_type": "markdown",
   "metadata": {},
   "source": [
    "### Set up DataFrame to store comparisons"
   ]
  },
  {
   "cell_type": "code",
   "execution_count": 77,
   "metadata": {},
   "outputs": [],
   "source": [
    "y_data = y.to_frame()"
   ]
  },
  {
   "cell_type": "markdown",
   "metadata": {},
   "source": [
    "### In-sample prediction"
   ]
  },
  {
   "cell_type": "code",
   "execution_count": 78,
   "metadata": {},
   "outputs": [],
   "source": [
    "yhat_rbf = svr_rbf.predict(X)\n",
    "yhat_lin = svr_lin.predict(X)\n",
    "yhat_poly = svr_poly.predict(X)"
   ]
  },
  {
   "cell_type": "markdown",
   "metadata": {},
   "source": [
    "Save the predicted values in the pandas array"
   ]
  },
  {
   "cell_type": "code",
   "execution_count": 79,
   "metadata": {},
   "outputs": [],
   "source": [
    "y_data[\"y rbf fit\"] = yhat_rbf   # Make a new column with the SVR variable\n",
    "y_data[\"y lin fit\"] = yhat_lin\n",
    "y_data[\"y poly fit\"] = yhat_poly"
   ]
  },
  {
   "cell_type": "code",
   "execution_count": 80,
   "metadata": {},
   "outputs": [
    {
     "data": {
      "text/html": [
       "<div>\n",
       "<style scoped>\n",
       "    .dataframe tbody tr th:only-of-type {\n",
       "        vertical-align: middle;\n",
       "    }\n",
       "\n",
       "    .dataframe tbody tr th {\n",
       "        vertical-align: top;\n",
       "    }\n",
       "\n",
       "    .dataframe thead th {\n",
       "        text-align: right;\n",
       "    }\n",
       "</style>\n",
       "<table border=\"1\" class=\"dataframe\">\n",
       "  <thead>\n",
       "    <tr style=\"text-align: right;\">\n",
       "      <th></th>\n",
       "      <th>CO2 udledning</th>\n",
       "      <th>y rbf fit</th>\n",
       "      <th>y lin fit</th>\n",
       "      <th>y poly fit</th>\n",
       "    </tr>\n",
       "    <tr>\n",
       "      <th>Dato og tid</th>\n",
       "      <th></th>\n",
       "      <th></th>\n",
       "      <th></th>\n",
       "      <th></th>\n",
       "    </tr>\n",
       "  </thead>\n",
       "  <tbody>\n",
       "    <tr>\n",
       "      <th>2016-12-08 00:00:00</th>\n",
       "      <td>190</td>\n",
       "      <td>171.481458</td>\n",
       "      <td>194.922431</td>\n",
       "      <td>171.326255</td>\n",
       "    </tr>\n",
       "    <tr>\n",
       "      <th>2016-12-08 00:05:00</th>\n",
       "      <td>184</td>\n",
       "      <td>173.604700</td>\n",
       "      <td>190.030728</td>\n",
       "      <td>175.392295</td>\n",
       "    </tr>\n",
       "    <tr>\n",
       "      <th>2016-12-08 00:10:00</th>\n",
       "      <td>180</td>\n",
       "      <td>174.732142</td>\n",
       "      <td>183.697624</td>\n",
       "      <td>177.409074</td>\n",
       "    </tr>\n",
       "    <tr>\n",
       "      <th>2016-12-08 00:15:00</th>\n",
       "      <td>175</td>\n",
       "      <td>174.900000</td>\n",
       "      <td>178.719788</td>\n",
       "      <td>178.879199</td>\n",
       "    </tr>\n",
       "    <tr>\n",
       "      <th>2016-12-08 00:20:00</th>\n",
       "      <td>170</td>\n",
       "      <td>174.725156</td>\n",
       "      <td>172.615635</td>\n",
       "      <td>179.008417</td>\n",
       "    </tr>\n",
       "    <tr>\n",
       "      <th>...</th>\n",
       "      <td>...</td>\n",
       "      <td>...</td>\n",
       "      <td>...</td>\n",
       "      <td>...</td>\n",
       "    </tr>\n",
       "    <tr>\n",
       "      <th>2016-12-08 23:35:00</th>\n",
       "      <td>292</td>\n",
       "      <td>188.507406</td>\n",
       "      <td>293.616533</td>\n",
       "      <td>193.710268</td>\n",
       "    </tr>\n",
       "    <tr>\n",
       "      <th>2016-12-08 23:40:00</th>\n",
       "      <td>294</td>\n",
       "      <td>188.516874</td>\n",
       "      <td>294.100272</td>\n",
       "      <td>193.730870</td>\n",
       "    </tr>\n",
       "    <tr>\n",
       "      <th>2016-12-08 23:45:00</th>\n",
       "      <td>297</td>\n",
       "      <td>188.063583</td>\n",
       "      <td>288.452679</td>\n",
       "      <td>193.108591</td>\n",
       "    </tr>\n",
       "    <tr>\n",
       "      <th>2016-12-08 23:50:00</th>\n",
       "      <td>299</td>\n",
       "      <td>188.415553</td>\n",
       "      <td>293.055310</td>\n",
       "      <td>193.323640</td>\n",
       "    </tr>\n",
       "    <tr>\n",
       "      <th>2016-12-08 23:55:00</th>\n",
       "      <td>299</td>\n",
       "      <td>190.923278</td>\n",
       "      <td>302.098764</td>\n",
       "      <td>195.447846</td>\n",
       "    </tr>\n",
       "  </tbody>\n",
       "</table>\n",
       "<p>288 rows × 4 columns</p>\n",
       "</div>"
      ],
      "text/plain": [
       "                     CO2 udledning   y rbf fit   y lin fit  y poly fit\n",
       "Dato og tid                                                           \n",
       "2016-12-08 00:00:00            190  171.481458  194.922431  171.326255\n",
       "2016-12-08 00:05:00            184  173.604700  190.030728  175.392295\n",
       "2016-12-08 00:10:00            180  174.732142  183.697624  177.409074\n",
       "2016-12-08 00:15:00            175  174.900000  178.719788  178.879199\n",
       "2016-12-08 00:20:00            170  174.725156  172.615635  179.008417\n",
       "...                            ...         ...         ...         ...\n",
       "2016-12-08 23:35:00            292  188.507406  293.616533  193.710268\n",
       "2016-12-08 23:40:00            294  188.516874  294.100272  193.730870\n",
       "2016-12-08 23:45:00            297  188.063583  288.452679  193.108591\n",
       "2016-12-08 23:50:00            299  188.415553  293.055310  193.323640\n",
       "2016-12-08 23:55:00            299  190.923278  302.098764  195.447846\n",
       "\n",
       "[288 rows x 4 columns]"
      ]
     },
     "execution_count": 80,
     "metadata": {},
     "output_type": "execute_result"
    }
   ],
   "source": [
    "y_data"
   ]
  },
  {
   "cell_type": "code",
   "execution_count": 81,
   "metadata": {},
   "outputs": [
    {
     "data": {
      "image/png": "[encoded data removed]",
      "text/plain": [
       "<Figure size 720x360 with 1 Axes>"
      ]
     },
     "metadata": {},
     "output_type": "display_data"
    }
   ],
   "source": [
    "plt.figure(figsize=(10,5))\n",
    "sns.lineplot(data=y_data);"
   ]
  },
  {
   "cell_type": "markdown",
   "metadata": {},
   "source": [
    "The plot shows that a linear model fits the data best.\n",
    "Possibly, the one large outlier affects the RBF and Poly models more than the linear model."
   ]
  },
  {
   "cell_type": "markdown",
   "metadata": {},
   "source": [
    "### Find out something more about the linear model"
   ]
  },
  {
   "cell_type": "markdown",
   "metadata": {},
   "source": [
    "Regression coefficients"
   ]
  },
  {
   "cell_type": "code",
   "execution_count": 88,
   "metadata": {},
   "outputs": [
    {
     "data": {
      "text/plain": [
       "array([[ 1.56649847e-01,  1.08930240e-01,  1.28524788e-01,\n",
       "        -1.67562331e-02,  3.40426721e-02,  5.98768504e-02,\n",
       "         2.09232413e-04, -9.67824319e-02, -9.70612859e-02,\n",
       "         7.22001177e-01,  1.17920562e-01]])"
      ]
     },
     "execution_count": 88,
     "metadata": {},
     "output_type": "execute_result"
    }
   ],
   "source": [
    "svr_lin.coef_"
   ]
  },
  {
   "cell_type": "code",
   "execution_count": 89,
   "metadata": {},
   "outputs": [],
   "source": [
    "svr_lin.score?"
   ]
  },
  {
   "cell_type": "markdown",
   "metadata": {},
   "source": [
    "The score is the R^2: 96% of the variance in the data is explained by the model."
   ]
  },
  {
   "cell_type": "code",
   "execution_count": 90,
   "metadata": {},
   "outputs": [
    {
     "data": {
      "text/plain": [
       "0.9602532734483797"
      ]
     },
     "execution_count": 90,
     "metadata": {},
     "output_type": "execute_result"
    }
   ],
   "source": [
    "svr_lin.score(X,y)"
   ]
  }
 ],
 "metadata": {
  "kernelspec": {
   "display_name": "Python 3",
   "language": "python",
   "name": "python3"
  },
  "language_info": {
   "codemirror_mode": {
    "name": "ipython",
    "version": 3
   },
   "file_extension": ".py",
   "mimetype": "text/x-python",
   "name": "python",
   "nbconvert_exporter": "python",
   "pygments_lexer": "ipython3",
   "version": "3.8.5"
  }
 },
 "nbformat": 4,
 "nbformat_minor": 4
}
