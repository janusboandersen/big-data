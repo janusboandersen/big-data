{
 "cells": [
  {
   "cell_type": "markdown",
   "metadata": {},
   "source": [
    "# PCA Analysis\n",
    "## Using the data on electricity production in Denmark\n",
    "Figure out the largest contributing factors to CO2 emissions using PCA"
   ]
  },
  {
   "cell_type": "code",
   "execution_count": 1,
   "metadata": {},
   "outputs": [],
   "source": [
    "import pandas as pd\n",
    "from pandas import DataFrame\n"
   ]
  },
  {
   "cell_type": "code",
   "execution_count": 2,
   "metadata": {},
   "outputs": [],
   "source": [
    "h_start = 0    # start of header names, inclusive\n",
    "h_end = 20     # end of header names, exclusive\n",
    "d_start = 22   # start of data values,\n",
    "dates = [0,]   # Column zero is a date and Pandas must interpret it as a date"
   ]
  },
  {
   "cell_type": "code",
   "execution_count": 3,
   "metadata": {},
   "outputs": [],
   "source": [
    "with open(\"20161208_onlinedata.csv\", encoding=\"latin1\") as f:\n",
    "    data_fields = f.readlines()[h_start:h_end]\n",
    "    f.seek(0,0)\n",
    "    data_values = pd.read_csv(f, skiprows=d_start-1, sep=';', infer_datetime_format=True, parse_dates=dates)"
   ]
  },
  {
   "cell_type": "code",
   "execution_count": 4,
   "metadata": {},
   "outputs": [],
   "source": [
    "# Clean leading and trailing spaces, tabs, newlines\n",
    "# split on first space only, and then only take the text field -> ['first header name', 'second header name']\n",
    "headers = [d.strip() for d in data_fields]\n",
    "headers = [h.split(\" \", maxsplit=1)[1] for h in headers] "
   ]
  },
  {
   "cell_type": "code",
   "execution_count": 5,
   "metadata": {},
   "outputs": [],
   "source": [
    "# Insert the name of the time column\n",
    "headers.insert(0, \"Dato og tid\")"
   ]
  },
  {
   "cell_type": "code",
   "execution_count": 6,
   "metadata": {},
   "outputs": [],
   "source": [
    "# Drop the last empty column\n",
    "data_values = data_values.drop('Unnamed: 21', axis=1)  # We drop column with name 21, on the 1st axis (columns)"
   ]
  },
  {
   "cell_type": "code",
   "execution_count": 7,
   "metadata": {},
   "outputs": [],
   "source": [
    "# Make a new final object\n",
    "df = data_values.copy(deep=True)\n",
    "\n",
    "# Set the header names\n",
    "df.columns = headers\n",
    "\n",
    "# Set the Date to be the index\n",
    "df = df.set_index(df.columns[0])"
   ]
  },
  {
   "cell_type": "markdown",
   "metadata": {},
   "source": [
    "## We now have a final dataset\n",
    "Now, begin to make it ready for PCA"
   ]
  },
  {
   "cell_type": "code",
   "execution_count": 8,
   "metadata": {},
   "outputs": [],
   "source": [
    "# Create a df to do PCA on\n",
    "df2 = df.copy(deep=True)"
   ]
  },
  {
   "cell_type": "code",
   "execution_count": 9,
   "metadata": {},
   "outputs": [],
   "source": [
    "# Pop out the CO2 column and save it\n",
    "CO2 = df2.pop('CO2 udledning')"
   ]
  },
  {
   "cell_type": "code",
   "execution_count": 10,
   "metadata": {},
   "outputs": [],
   "source": [
    "# Pop off and discard the two unusable columns\n",
    "df2.pop('Vindhastighed i Malling');\n",
    "df2.pop('Temperatur i Malling');"
   ]
  },
  {
   "cell_type": "markdown",
   "metadata": {},
   "source": [
    "### Import PCA model"
   ]
  },
  {
   "cell_type": "code",
   "execution_count": 11,
   "metadata": {},
   "outputs": [],
   "source": [
    "import numpy as np\n",
    "from sklearn.decomposition import PCA"
   ]
  },
  {
   "cell_type": "code",
   "execution_count": 12,
   "metadata": {},
   "outputs": [],
   "source": [
    "pca_model = PCA(n_components=1)"
   ]
  },
  {
   "cell_type": "markdown",
   "metadata": {},
   "source": [
    "Attempt to make a model with just one component, i.e. make 1 new variable by combining the 20 old variables into 1 new variable"
   ]
  },
  {
   "cell_type": "code",
   "execution_count": 13,
   "metadata": {},
   "outputs": [
    {
     "data": {
      "text/plain": [
       "PCA(n_components=1)"
      ]
     },
     "execution_count": 13,
     "metadata": {},
     "output_type": "execute_result"
    }
   ],
   "source": [
    "pca_model.fit(df2)"
   ]
  },
  {
   "cell_type": "markdown",
   "metadata": {},
   "source": [
    "Show how many percent of total variance in the data can be explained with just the 1 component"
   ]
  },
  {
   "cell_type": "code",
   "execution_count": 14,
   "metadata": {},
   "outputs": [
    {
     "name": "stdout",
     "output_type": "stream",
     "text": [
      "[0.79257213]\n"
     ]
    }
   ],
   "source": [
    "print(pca_model.explained_variance_ratio_)"
   ]
  },
  {
   "cell_type": "code",
   "execution_count": 15,
   "metadata": {},
   "outputs": [
    {
     "data": {
      "text/plain": [
       "[(0.12597996986359525, 'Centrale kraftværker DK1'),\n",
       " (0.012639045915224245, 'Centrale kraftværker DK2'),\n",
       " (0.059873862966092824, 'Decentrale kraftværker DK1'),\n",
       " (0.01481577297282811, 'Decentrale kraftværker DK2'),\n",
       " (-0.44167102846258777, 'Vindmøller DK1'),\n",
       " (-0.07026999074319044, 'Vindmøller DK2'),\n",
       " (0.6743662578385146, 'Udveksling Jylland-Norge'),\n",
       " (-0.06515162528706121, 'Udveksling Jylland-Sverige'),\n",
       " (-0.15354756286331547, 'Udveksling Jylland-Tyskland'),\n",
       " (0.3009366106917083, 'Udveksling Sjælland-Sverige'),\n",
       " (-0.07732449721545338, 'Udveksling Sjælland-Tyskland'),\n",
       " (0.001093797833095818, 'Udveksling Bornholm-Sverige'),\n",
       " (0.009799592537681373, 'Udveksling Fyn-Sjaelland'),\n",
       " (-0.06904898350365901, 'Havmøller DK'),\n",
       " (-0.4428941383377205, 'Landmøller DK'),\n",
       " (-0.00042083450054026346, 'Solceller DK1'),\n",
       " (-3.396703926453231e-05, 'Solceller DK2')]"
      ]
     },
     "execution_count": 15,
     "metadata": {},
     "output_type": "execute_result"
    }
   ],
   "source": [
    "z = zip(pca_model.components_.T[:,0], df2.columns.T)\n",
    "list(z)"
   ]
  },
  {
   "cell_type": "markdown",
   "metadata": {},
   "source": [
    "Perform the transformation, i.e. make the new variable by applying weights to each column and taking sum"
   ]
  },
  {
   "cell_type": "code",
   "execution_count": 16,
   "metadata": {},
   "outputs": [],
   "source": [
    "x = pca_model.fit(df2).transform(df2)"
   ]
  },
  {
   "cell_type": "markdown",
   "metadata": {},
   "source": [
    "Make a small new dataset with the CO2 data and the new PCA variable"
   ]
  },
  {
   "cell_type": "code",
   "execution_count": 17,
   "metadata": {},
   "outputs": [],
   "source": [
    "cmp = CO2.to_frame()  # Make the Series object into a DataFrame\n",
    "cmp[\"PCA\"] = x[:,0]   # Make a new column with the PCA variable"
   ]
  },
  {
   "cell_type": "code",
   "execution_count": 18,
   "metadata": {},
   "outputs": [
    {
     "data": {
      "text/html": [
       "<div>\n",
       "<style scoped>\n",
       "    .dataframe tbody tr th:only-of-type {\n",
       "        vertical-align: middle;\n",
       "    }\n",
       "\n",
       "    .dataframe tbody tr th {\n",
       "        vertical-align: top;\n",
       "    }\n",
       "\n",
       "    .dataframe thead th {\n",
       "        text-align: right;\n",
       "    }\n",
       "</style>\n",
       "<table border=\"1\" class=\"dataframe\">\n",
       "  <thead>\n",
       "    <tr style=\"text-align: right;\">\n",
       "      <th></th>\n",
       "      <th>CO2 udledning</th>\n",
       "      <th>PCA</th>\n",
       "    </tr>\n",
       "    <tr>\n",
       "      <th>Dato og tid</th>\n",
       "      <th></th>\n",
       "      <th></th>\n",
       "    </tr>\n",
       "  </thead>\n",
       "  <tbody>\n",
       "    <tr>\n",
       "      <th>2016-12-08 00:00:00</th>\n",
       "      <td>190</td>\n",
       "      <td>-1771.556285</td>\n",
       "    </tr>\n",
       "    <tr>\n",
       "      <th>2016-12-08 00:05:00</th>\n",
       "      <td>184</td>\n",
       "      <td>-1815.747534</td>\n",
       "    </tr>\n",
       "    <tr>\n",
       "      <th>2016-12-08 00:10:00</th>\n",
       "      <td>180</td>\n",
       "      <td>-1823.303024</td>\n",
       "    </tr>\n",
       "    <tr>\n",
       "      <th>2016-12-08 00:15:00</th>\n",
       "      <td>175</td>\n",
       "      <td>-1813.974267</td>\n",
       "    </tr>\n",
       "    <tr>\n",
       "      <th>2016-12-08 00:20:00</th>\n",
       "      <td>170</td>\n",
       "      <td>-1833.460103</td>\n",
       "    </tr>\n",
       "    <tr>\n",
       "      <th>...</th>\n",
       "      <td>...</td>\n",
       "      <td>...</td>\n",
       "    </tr>\n",
       "    <tr>\n",
       "      <th>2016-12-08 23:35:00</th>\n",
       "      <td>292</td>\n",
       "      <td>33.259697</td>\n",
       "    </tr>\n",
       "    <tr>\n",
       "      <th>2016-12-08 23:40:00</th>\n",
       "      <td>294</td>\n",
       "      <td>46.548923</td>\n",
       "    </tr>\n",
       "    <tr>\n",
       "      <th>2016-12-08 23:45:00</th>\n",
       "      <td>297</td>\n",
       "      <td>66.868377</td>\n",
       "    </tr>\n",
       "    <tr>\n",
       "      <th>2016-12-08 23:50:00</th>\n",
       "      <td>299</td>\n",
       "      <td>66.033229</td>\n",
       "    </tr>\n",
       "    <tr>\n",
       "      <th>2016-12-08 23:55:00</th>\n",
       "      <td>299</td>\n",
       "      <td>73.095850</td>\n",
       "    </tr>\n",
       "  </tbody>\n",
       "</table>\n",
       "<p>288 rows × 2 columns</p>\n",
       "</div>"
      ],
      "text/plain": [
       "                     CO2 udledning          PCA\n",
       "Dato og tid                                    \n",
       "2016-12-08 00:00:00            190 -1771.556285\n",
       "2016-12-08 00:05:00            184 -1815.747534\n",
       "2016-12-08 00:10:00            180 -1823.303024\n",
       "2016-12-08 00:15:00            175 -1813.974267\n",
       "2016-12-08 00:20:00            170 -1833.460103\n",
       "...                            ...          ...\n",
       "2016-12-08 23:35:00            292    33.259697\n",
       "2016-12-08 23:40:00            294    46.548923\n",
       "2016-12-08 23:45:00            297    66.868377\n",
       "2016-12-08 23:50:00            299    66.033229\n",
       "2016-12-08 23:55:00            299    73.095850\n",
       "\n",
       "[288 rows x 2 columns]"
      ]
     },
     "execution_count": 18,
     "metadata": {},
     "output_type": "execute_result"
    }
   ],
   "source": [
    "cmp"
   ]
  },
  {
   "cell_type": "markdown",
   "metadata": {},
   "source": [
    "### Look at the results\n",
    "Compare the CO2 value to the 1 new variable.\n",
    "We plot on different axes, as the two series are not equally scaled\n",
    "\n",
    "Use seaborn to make it look nicer"
   ]
  },
  {
   "cell_type": "code",
   "execution_count": 19,
   "metadata": {},
   "outputs": [],
   "source": [
    "import matplotlib.pyplot as plt\n",
    "import seaborn as sns\n",
    "sns.set_theme()"
   ]
  },
  {
   "cell_type": "code",
   "execution_count": 20,
   "metadata": {},
   "outputs": [
    {
     "data": {
      "image/png": "[encoded data removed]",
      "text/plain": [
       "<Figure size 720x360 with 2 Axes>"
      ]
     },
     "metadata": {},
     "output_type": "display_data"
    }
   ],
   "source": [
    "plt.figure(figsize=(10,5))\n",
    "sns.lineplot(data=cmp['CO2 udledning'], color=\"g\");\n",
    "ax2 = plt.twinx()\n",
    "sns.lineplot(data=cmp['PCA'], color=\"b\", ax=ax2);"
   ]
  },
  {
   "cell_type": "markdown",
   "metadata": {},
   "source": [
    "This shows how the new single variable explains most of the variation in CO2 emissions."
   ]
  }
 ],
 "metadata": {
  "kernelspec": {
   "display_name": "Python 3",
   "language": "python",
   "name": "python3"
  },
  "language_info": {
   "codemirror_mode": {
    "name": "ipython",
    "version": 3
   },
   "file_extension": ".py",
   "mimetype": "text/x-python",
   "name": "python",
   "nbconvert_exporter": "python",
   "pygments_lexer": "ipython3",
   "version": "3.8.5"
  }
 },
 "nbformat": 4,
 "nbformat_minor": 4
}
