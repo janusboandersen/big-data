{
 "cells": [
  {
   "cell_type": "markdown",
   "metadata": {},
   "source": [
    "# Week 36, Thursday\n",
    "## Intro to the tools\n",
    "Janus Bo Andersen, 3 Sep 2020"
   ]
  },
  {
   "cell_type": "code",
   "execution_count": 1,
   "metadata": {},
   "outputs": [],
   "source": [
    "import numpy as np\n",
    "import sklearn\n",
    "import matplotlib.pyplot as plt\n",
    "%matplotlib inline"
   ]
  },
  {
   "cell_type": "markdown",
   "metadata": {},
   "source": [
    "### Do some work here..."
   ]
  },
  {
   "cell_type": "code",
   "execution_count": 2,
   "metadata": {},
   "outputs": [],
   "source": [
    "from decimal import *\n",
    "d = Decimal(7.2)"
   ]
  },
  {
   "cell_type": "code",
   "execution_count": 3,
   "metadata": {},
   "outputs": [
    {
     "data": {
      "text/plain": [
       "Decimal('7.20000000000000017763568394002504646778106689453125')"
      ]
     },
     "execution_count": 3,
     "metadata": {},
     "output_type": "execute_result"
    }
   ],
   "source": [
    "d"
   ]
  },
  {
   "cell_type": "code",
   "execution_count": 4,
   "metadata": {},
   "outputs": [],
   "source": [
    "h = \"Hello\""
   ]
  },
  {
   "cell_type": "code",
   "execution_count": 11,
   "metadata": {},
   "outputs": [
    {
     "data": {
      "text/plain": [
       "72"
      ]
     },
     "execution_count": 11,
     "metadata": {},
     "output_type": "execute_result"
    }
   ],
   "source": [
    "h.encode()[0]"
   ]
  },
  {
   "cell_type": "markdown",
   "metadata": {},
   "source": [
    "### Exercise: Count the number of files in a directory tree (recursively)\n",
    "- Use the OS module to create a recursive file counter\n",
    "- Count the number of files in a directory tree\n",
    "- Provide the path to a directory and receive the number of files"
   ]
  },
  {
   "cell_type": "code",
   "execution_count": 7,
   "metadata": {},
   "outputs": [],
   "source": [
    "import os"
   ]
  },
  {
   "cell_type": "code",
   "execution_count": 8,
   "metadata": {},
   "outputs": [],
   "source": [
    "def count_files(p):\n",
    "    \"\"\" \n",
    "    Recursively counts number of files in a directory tree.\n",
    "    Argument p is the path of the directory to recurse.\n",
    "    \"\"\"\n",
    "    \n",
    "    # Invalid path\n",
    "    if not (os.path.exists(p)):\n",
    "        return 0\n",
    "    \n",
    "    # If a file - recursion base case\n",
    "    elif not (os.path.isdir(p)):\n",
    "        return 1\n",
    "    \n",
    "    # If an empty dir, the Walrus operator := requires Python 3.8\n",
    "    elif len(file_list := os.listdir(p)) == 0:\n",
    "        return 0\n",
    "    \n",
    "    # Else, it is a non-empty dir, work through list using recursion\n",
    "    else:\n",
    "        return sum([count_files(os.path.join(p, fp)) for fp in file_list])"
   ]
  },
  {
   "cell_type": "code",
   "execution_count": 9,
   "metadata": {},
   "outputs": [
    {
     "data": {
      "text/plain": [
       "3"
      ]
     },
     "execution_count": 9,
     "metadata": {},
     "output_type": "execute_result"
    }
   ],
   "source": [
    "count_files(os.getcwd())"
   ]
  }
 ],
 "metadata": {
  "kernelspec": {
   "display_name": "Python 3",
   "language": "python",
   "name": "python3"
  },
  "language_info": {
   "codemirror_mode": {
    "name": "ipython",
    "version": 3
   },
   "file_extension": ".py",
   "mimetype": "text/x-python",
   "name": "python",
   "nbconvert_exporter": "python",
   "pygments_lexer": "ipython3",
   "version": "3.8.5"
  }
 },
 "nbformat": 4,
 "nbformat_minor": 4
}
