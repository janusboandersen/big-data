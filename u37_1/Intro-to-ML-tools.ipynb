{
 "cells": [
  {
   "cell_type": "markdown",
   "metadata": {},
   "source": [
    "# Various stuff for Week 37/1"
   ]
  },
  {
   "cell_type": "markdown",
   "metadata": {},
   "source": [
    "Import using the import statement. A good library is collections for thread-safe Collections-related containers"
   ]
  },
  {
   "cell_type": "code",
   "execution_count": 1,
   "metadata": {},
   "outputs": [],
   "source": [
    "import collections as col"
   ]
  },
  {
   "cell_type": "markdown",
   "metadata": {},
   "source": [
    "The Python path controls where Python searches for packages to import"
   ]
  },
  {
   "cell_type": "code",
   "execution_count": 2,
   "metadata": {},
   "outputs": [
    {
     "data": {
      "text/plain": [
       "['/Users/janusboandersen/projects/e5bda/u37_1',\n",
       " '/usr/local/Cellar/python@3.8/3.8.5/Frameworks/Python.framework/Versions/3.8/lib/python38.zip',\n",
       " '/usr/local/Cellar/python@3.8/3.8.5/Frameworks/Python.framework/Versions/3.8/lib/python3.8',\n",
       " '/usr/local/Cellar/python@3.8/3.8.5/Frameworks/Python.framework/Versions/3.8/lib/python3.8/lib-dynload',\n",
       " '',\n",
       " '/Users/janusboandersen/projects/e5bda/bda/lib/python3.8/site-packages',\n",
       " '/Users/janusboandersen/projects/e5bda/bda/lib/python3.8/site-packages/IPython/extensions',\n",
       " '/Users/janusboandersen/.ipython']"
      ]
     },
     "execution_count": 2,
     "metadata": {},
     "output_type": "execute_result"
    }
   ],
   "source": [
    "import sys\n",
    "sys.path"
   ]
  },
  {
   "cell_type": "markdown",
   "metadata": {},
   "source": [
    "Commands can be issued with !, e.g. `!pip install -U pip`"
   ]
  },
  {
   "cell_type": "markdown",
   "metadata": {},
   "source": [
    "We will heavily use\n",
    "- NumPy: For numerical handling og matrices, vectors, etc.\n",
    "- Pandas: For time series analysis, data management. Very robust in terms of missing data."
   ]
  },
  {
   "cell_type": "markdown",
   "metadata": {},
   "source": [
    "Review use of % (line magic) and %% (cell magic) functions in iPython."
   ]
  },
  {
   "cell_type": "markdown",
   "metadata": {},
   "source": [
    "## Exercise\n",
    "- Plot the function sinc from -4 to 4\n",
    "    - The Sinc function is available from the numpy package\n",
    "    - Sinc is equal to  sin(x)/x\n",
    "    - Add title to plot\n",
    "    - Add axis labels\n",
    "    - Add legend"
   ]
  },
  {
   "cell_type": "code",
   "execution_count": 3,
   "metadata": {},
   "outputs": [],
   "source": [
    "import numpy as np\n",
    "import matplotlib.pyplot as plt\n",
    "import matplotlib as mpl"
   ]
  },
  {
   "cell_type": "markdown",
   "metadata": {},
   "source": [
    "Settings to use a tex engine to render charts... Prettier."
   ]
  },
  {
   "cell_type": "code",
   "execution_count": 4,
   "metadata": {},
   "outputs": [],
   "source": [
    "plt.rcParams.update({\n",
    "    \"text.usetex\": True,})"
   ]
  },
  {
   "cell_type": "code",
   "execution_count": 5,
   "metadata": {},
   "outputs": [],
   "source": [
    "%matplotlib inline"
   ]
  },
  {
   "cell_type": "code",
   "execution_count": 6,
   "metadata": {},
   "outputs": [],
   "source": [
    "x = np.linspace(-4,4, 1000);\n",
    "y = np.sinc(x);"
   ]
  },
  {
   "cell_type": "code",
   "execution_count": 7,
   "metadata": {},
   "outputs": [
    {
     "data": {
      "image/png": "[encoded data removed]",
      "text/plain": [
       "<Figure size 576x288 with 1 Axes>"
      ]
     },
     "metadata": {
      "needs_background": "light"
     },
     "output_type": "display_data"
    }
   ],
   "source": [
    "fig = plt.figure(figsize=(8,4));\n",
    "ax = fig.add_subplot(1,1,1)\n",
    "ax.plot(x, y, 'b-', linewidth=2, label=r'$y=sinc(x)$');\n",
    "ax.set_ylabel(r'$y$');\n",
    "ax.set_xlabel(r'$x$');\n",
    "ax.legend(loc='best');\n",
    "ax.grid(True)\n",
    "fig.suptitle(r'The sinc function is $\\frac{sin(x)}{x}$');\n",
    "fig.tight_layout(pad=1)"
   ]
  },
  {
   "cell_type": "markdown",
   "metadata": {},
   "source": [
    "## Pandas"
   ]
  },
  {
   "cell_type": "code",
   "execution_count": 8,
   "metadata": {},
   "outputs": [],
   "source": [
    "import pandas as pd"
   ]
  },
  {
   "cell_type": "code",
   "execution_count": 9,
   "metadata": {},
   "outputs": [
    {
     "data": {
      "text/html": [
       "<div>\n",
       "<style scoped>\n",
       "    .dataframe tbody tr th:only-of-type {\n",
       "        vertical-align: middle;\n",
       "    }\n",
       "\n",
       "    .dataframe tbody tr th {\n",
       "        vertical-align: top;\n",
       "    }\n",
       "\n",
       "    .dataframe thead th {\n",
       "        text-align: right;\n",
       "    }\n",
       "</style>\n",
       "<table border=\"1\" class=\"dataframe\">\n",
       "  <thead>\n",
       "    <tr style=\"text-align: right;\">\n",
       "      <th></th>\n",
       "      <th>jday</th>\n",
       "      <th>mon</th>\n",
       "      <th>day</th>\n",
       "      <th>yr</th>\n",
       "      <th>unit</th>\n",
       "      <th>gis_id</th>\n",
       "      <th>name</th>\n",
       "      <th>flo</th>\n",
       "      <th>dep_wt</th>\n",
       "      <th>stor</th>\n",
       "      <th>...</th>\n",
       "      <th>minp</th>\n",
       "      <th>orgn</th>\n",
       "      <th>orgp</th>\n",
       "      <th>rchrgn</th>\n",
       "      <th>nloss</th>\n",
       "      <th>no3gw</th>\n",
       "      <th>seepno3</th>\n",
       "      <th>flo_cha</th>\n",
       "      <th>flo_res</th>\n",
       "      <th>flo_ls</th>\n",
       "    </tr>\n",
       "  </thead>\n",
       "  <tbody>\n",
       "    <tr>\n",
       "      <th>0</th>\n",
       "      <td>1</td>\n",
       "      <td>1</td>\n",
       "      <td>1</td>\n",
       "      <td>2018</td>\n",
       "      <td>1</td>\n",
       "      <td>11</td>\n",
       "      <td>aqu011</td>\n",
       "      <td>1.390</td>\n",
       "      <td>2.705</td>\n",
       "      <td>364.760</td>\n",
       "      <td>...</td>\n",
       "      <td>0.0</td>\n",
       "      <td>0.0</td>\n",
       "      <td>0.0</td>\n",
       "      <td>0.010</td>\n",
       "      <td>0.0</td>\n",
       "      <td>0.009</td>\n",
       "      <td>0.000</td>\n",
       "      <td>1.390</td>\n",
       "      <td>0.0</td>\n",
       "      <td>1.390</td>\n",
       "    </tr>\n",
       "    <tr>\n",
       "      <th>1</th>\n",
       "      <td>1</td>\n",
       "      <td>1</td>\n",
       "      <td>1</td>\n",
       "      <td>2018</td>\n",
       "      <td>2</td>\n",
       "      <td>12</td>\n",
       "      <td>aqu012</td>\n",
       "      <td>0.205</td>\n",
       "      <td>2.928</td>\n",
       "      <td>353.600</td>\n",
       "      <td>...</td>\n",
       "      <td>0.0</td>\n",
       "      <td>0.0</td>\n",
       "      <td>0.0</td>\n",
       "      <td>0.007</td>\n",
       "      <td>0.0</td>\n",
       "      <td>0.003</td>\n",
       "      <td>0.001</td>\n",
       "      <td>0.000</td>\n",
       "      <td>0.0</td>\n",
       "      <td>0.409</td>\n",
       "    </tr>\n",
       "    <tr>\n",
       "      <th>2</th>\n",
       "      <td>1</td>\n",
       "      <td>1</td>\n",
       "      <td>1</td>\n",
       "      <td>2018</td>\n",
       "      <td>3</td>\n",
       "      <td>21</td>\n",
       "      <td>aqu021</td>\n",
       "      <td>1.168</td>\n",
       "      <td>2.739</td>\n",
       "      <td>363.036</td>\n",
       "      <td>...</td>\n",
       "      <td>0.0</td>\n",
       "      <td>0.0</td>\n",
       "      <td>0.0</td>\n",
       "      <td>0.008</td>\n",
       "      <td>0.0</td>\n",
       "      <td>0.008</td>\n",
       "      <td>0.000</td>\n",
       "      <td>1.168</td>\n",
       "      <td>0.0</td>\n",
       "      <td>1.168</td>\n",
       "    </tr>\n",
       "    <tr>\n",
       "      <th>3</th>\n",
       "      <td>1</td>\n",
       "      <td>1</td>\n",
       "      <td>1</td>\n",
       "      <td>2018</td>\n",
       "      <td>4</td>\n",
       "      <td>22</td>\n",
       "      <td>aqu022</td>\n",
       "      <td>0.319</td>\n",
       "      <td>2.940</td>\n",
       "      <td>352.989</td>\n",
       "      <td>...</td>\n",
       "      <td>0.0</td>\n",
       "      <td>0.0</td>\n",
       "      <td>0.0</td>\n",
       "      <td>0.005</td>\n",
       "      <td>0.0</td>\n",
       "      <td>0.004</td>\n",
       "      <td>0.001</td>\n",
       "      <td>0.000</td>\n",
       "      <td>0.0</td>\n",
       "      <td>0.638</td>\n",
       "    </tr>\n",
       "    <tr>\n",
       "      <th>4</th>\n",
       "      <td>1</td>\n",
       "      <td>1</td>\n",
       "      <td>1</td>\n",
       "      <td>2018</td>\n",
       "      <td>5</td>\n",
       "      <td>31</td>\n",
       "      <td>aqu031</td>\n",
       "      <td>2.892</td>\n",
       "      <td>2.134</td>\n",
       "      <td>393.322</td>\n",
       "      <td>...</td>\n",
       "      <td>0.0</td>\n",
       "      <td>0.0</td>\n",
       "      <td>0.0</td>\n",
       "      <td>0.015</td>\n",
       "      <td>0.0</td>\n",
       "      <td>0.014</td>\n",
       "      <td>0.000</td>\n",
       "      <td>2.892</td>\n",
       "      <td>0.0</td>\n",
       "      <td>2.892</td>\n",
       "    </tr>\n",
       "    <tr>\n",
       "      <th>...</th>\n",
       "      <td>...</td>\n",
       "      <td>...</td>\n",
       "      <td>...</td>\n",
       "      <td>...</td>\n",
       "      <td>...</td>\n",
       "      <td>...</td>\n",
       "      <td>...</td>\n",
       "      <td>...</td>\n",
       "      <td>...</td>\n",
       "      <td>...</td>\n",
       "      <td>...</td>\n",
       "      <td>...</td>\n",
       "      <td>...</td>\n",
       "      <td>...</td>\n",
       "      <td>...</td>\n",
       "      <td>...</td>\n",
       "      <td>...</td>\n",
       "      <td>...</td>\n",
       "      <td>...</td>\n",
       "      <td>...</td>\n",
       "      <td>...</td>\n",
       "    </tr>\n",
       "    <tr>\n",
       "      <th>26298</th>\n",
       "      <td>177</td>\n",
       "      <td>6</td>\n",
       "      <td>25</td>\n",
       "      <td>2020</td>\n",
       "      <td>25</td>\n",
       "      <td>151</td>\n",
       "      <td>aqu151</td>\n",
       "      <td>0.069</td>\n",
       "      <td>2.983</td>\n",
       "      <td>350.856</td>\n",
       "      <td>...</td>\n",
       "      <td>0.0</td>\n",
       "      <td>0.0</td>\n",
       "      <td>0.0</td>\n",
       "      <td>0.002</td>\n",
       "      <td>0.0</td>\n",
       "      <td>0.001</td>\n",
       "      <td>0.000</td>\n",
       "      <td>0.069</td>\n",
       "      <td>0.0</td>\n",
       "      <td>0.069</td>\n",
       "    </tr>\n",
       "    <tr>\n",
       "      <th>26299</th>\n",
       "      <td>177</td>\n",
       "      <td>6</td>\n",
       "      <td>25</td>\n",
       "      <td>2020</td>\n",
       "      <td>26</td>\n",
       "      <td>152</td>\n",
       "      <td>aqu152</td>\n",
       "      <td>0.000</td>\n",
       "      <td>4.908</td>\n",
       "      <td>254.580</td>\n",
       "      <td>...</td>\n",
       "      <td>0.0</td>\n",
       "      <td>0.0</td>\n",
       "      <td>0.0</td>\n",
       "      <td>0.000</td>\n",
       "      <td>0.0</td>\n",
       "      <td>0.000</td>\n",
       "      <td>0.001</td>\n",
       "      <td>0.000</td>\n",
       "      <td>0.0</td>\n",
       "      <td>0.000</td>\n",
       "    </tr>\n",
       "    <tr>\n",
       "      <th>26300</th>\n",
       "      <td>177</td>\n",
       "      <td>6</td>\n",
       "      <td>25</td>\n",
       "      <td>2020</td>\n",
       "      <td>27</td>\n",
       "      <td>161</td>\n",
       "      <td>aqu161</td>\n",
       "      <td>0.515</td>\n",
       "      <td>2.864</td>\n",
       "      <td>356.780</td>\n",
       "      <td>...</td>\n",
       "      <td>0.0</td>\n",
       "      <td>0.0</td>\n",
       "      <td>0.0</td>\n",
       "      <td>0.006</td>\n",
       "      <td>0.0</td>\n",
       "      <td>0.006</td>\n",
       "      <td>0.001</td>\n",
       "      <td>0.515</td>\n",
       "      <td>0.0</td>\n",
       "      <td>0.515</td>\n",
       "    </tr>\n",
       "    <tr>\n",
       "      <th>26301</th>\n",
       "      <td>177</td>\n",
       "      <td>6</td>\n",
       "      <td>25</td>\n",
       "      <td>2020</td>\n",
       "      <td>28</td>\n",
       "      <td>162</td>\n",
       "      <td>aqu162</td>\n",
       "      <td>0.000</td>\n",
       "      <td>3.033</td>\n",
       "      <td>348.364</td>\n",
       "      <td>...</td>\n",
       "      <td>0.0</td>\n",
       "      <td>0.0</td>\n",
       "      <td>0.0</td>\n",
       "      <td>0.001</td>\n",
       "      <td>0.0</td>\n",
       "      <td>0.000</td>\n",
       "      <td>0.002</td>\n",
       "      <td>0.000</td>\n",
       "      <td>0.0</td>\n",
       "      <td>0.000</td>\n",
       "    </tr>\n",
       "    <tr>\n",
       "      <th>26302</th>\n",
       "      <td>177</td>\n",
       "      <td>6</td>\n",
       "      <td>25</td>\n",
       "      <td>2020</td>\n",
       "      <td>29</td>\n",
       "      <td>12</td>\n",
       "      <td>aqu_deep12</td>\n",
       "      <td>0.000</td>\n",
       "      <td>7.704</td>\n",
       "      <td>2768.865</td>\n",
       "      <td>...</td>\n",
       "      <td>0.0</td>\n",
       "      <td>0.0</td>\n",
       "      <td>0.0</td>\n",
       "      <td>0.000</td>\n",
       "      <td>0.0</td>\n",
       "      <td>0.000</td>\n",
       "      <td>0.000</td>\n",
       "      <td>0.000</td>\n",
       "      <td>0.0</td>\n",
       "      <td>0.000</td>\n",
       "    </tr>\n",
       "  </tbody>\n",
       "</table>\n",
       "<p>26303 rows × 24 columns</p>\n",
       "</div>"
      ],
      "text/plain": [
       "       jday  mon  day    yr  unit  gis_id        name    flo  dep_wt  \\\n",
       "0         1    1    1  2018     1      11      aqu011  1.390   2.705   \n",
       "1         1    1    1  2018     2      12      aqu012  0.205   2.928   \n",
       "2         1    1    1  2018     3      21      aqu021  1.168   2.739   \n",
       "3         1    1    1  2018     4      22      aqu022  0.319   2.940   \n",
       "4         1    1    1  2018     5      31      aqu031  2.892   2.134   \n",
       "...     ...  ...  ...   ...   ...     ...         ...    ...     ...   \n",
       "26298   177    6   25  2020    25     151      aqu151  0.069   2.983   \n",
       "26299   177    6   25  2020    26     152      aqu152  0.000   4.908   \n",
       "26300   177    6   25  2020    27     161      aqu161  0.515   2.864   \n",
       "26301   177    6   25  2020    28     162      aqu162  0.000   3.033   \n",
       "26302   177    6   25  2020    29      12  aqu_deep12  0.000   7.704   \n",
       "\n",
       "           stor  ...  minp  orgn  orgp  rchrgn  nloss  no3gw  seepno3  \\\n",
       "0       364.760  ...   0.0   0.0   0.0   0.010    0.0  0.009    0.000   \n",
       "1       353.600  ...   0.0   0.0   0.0   0.007    0.0  0.003    0.001   \n",
       "2       363.036  ...   0.0   0.0   0.0   0.008    0.0  0.008    0.000   \n",
       "3       352.989  ...   0.0   0.0   0.0   0.005    0.0  0.004    0.001   \n",
       "4       393.322  ...   0.0   0.0   0.0   0.015    0.0  0.014    0.000   \n",
       "...         ...  ...   ...   ...   ...     ...    ...    ...      ...   \n",
       "26298   350.856  ...   0.0   0.0   0.0   0.002    0.0  0.001    0.000   \n",
       "26299   254.580  ...   0.0   0.0   0.0   0.000    0.0  0.000    0.001   \n",
       "26300   356.780  ...   0.0   0.0   0.0   0.006    0.0  0.006    0.001   \n",
       "26301   348.364  ...   0.0   0.0   0.0   0.001    0.0  0.000    0.002   \n",
       "26302  2768.865  ...   0.0   0.0   0.0   0.000    0.0  0.000    0.000   \n",
       "\n",
       "       flo_cha  flo_res  flo_ls  \n",
       "0        1.390      0.0   1.390  \n",
       "1        0.000      0.0   0.409  \n",
       "2        1.168      0.0   1.168  \n",
       "3        0.000      0.0   0.638  \n",
       "4        2.892      0.0   2.892  \n",
       "...        ...      ...     ...  \n",
       "26298    0.069      0.0   0.069  \n",
       "26299    0.000      0.0   0.000  \n",
       "26300    0.515      0.0   0.515  \n",
       "26301    0.000      0.0   0.000  \n",
       "26302    0.000      0.0   0.000  \n",
       "\n",
       "[26303 rows x 24 columns]"
      ]
     },
     "execution_count": 9,
     "metadata": {},
     "output_type": "execute_result"
    }
   ],
   "source": [
    "df = pd.DataFrame()\n",
    "filename = 'aquifer_day.txt'\n",
    "df = pd.read_csv(filename, header=0, delim_whitespace=True, skiprows=[0,2])\n",
    "df"
   ]
  },
  {
   "cell_type": "code",
   "execution_count": 10,
   "metadata": {},
   "outputs": [
    {
     "data": {
      "image/png": "[encoded data removed]",
      "text/plain": [
       "<Figure size 432x288 with 1 Axes>"
      ]
     },
     "metadata": {
      "needs_background": "light"
     },
     "output_type": "display_data"
    }
   ],
   "source": [
    "df['no3gw'].plot();"
   ]
  }
 ],
 "metadata": {
  "kernelspec": {
   "display_name": "Python 3",
   "language": "python",
   "name": "python3"
  },
  "language_info": {
   "codemirror_mode": {
    "name": "ipython",
    "version": 3
   },
   "file_extension": ".py",
   "mimetype": "text/x-python",
   "name": "python",
   "nbconvert_exporter": "python",
   "pygments_lexer": "ipython3",
   "version": "3.8.5"
  }
 },
 "nbformat": 4,
 "nbformat_minor": 4
}
