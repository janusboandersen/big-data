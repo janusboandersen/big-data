{
 "cells": [
  {
   "cell_type": "markdown",
   "metadata": {},
   "source": [
    "# E5BDA - MNIST Classifiers\n",
    "#### Janus Bo Andersen (JA67494 / AU191419)\n",
    "***"
   ]
  },
  {
   "cell_type": "markdown",
   "metadata": {},
   "source": [
    "This report/notebook is for the fulfilment of exam requirements in the course E5BDA (Big Data) Fall 2020. The report and code was made by the stated author."
   ]
  },
  {
   "cell_type": "markdown",
   "metadata": {},
   "source": [
    "## Assignment: \n",
    "- Train three different classifiers on Mnist dataset (keras.datasets.mnist) and present the accuracy of the classification. \n",
    "- There must be at least one classical model, and one Neural Net model among the three models.\n",
    "- Argue for which classifier works best and present ideas to improve the classifier.\n",
    "\n",
    "## Solution summary:\n",
    "- Three classifiers have been trained and evaluated on MNIST data.\n",
    "- The **best** performing is a **convolutional neural network** with an **accuracy of 0.9887**.\n",
    "- The implemented models are:"
   ]
  },
  {
   "cell_type": "markdown",
   "metadata": {},
   "source": [
    "| # | Model                              | Comments                                   | Accuracy |\n",
    "|:- | :-                                 | :-                                         | -:       |\n",
    "| 1 | Convolutional Neural Network (CNN) | Single 2D conv. layer with 16 filters, 5x5 kernels, <br/> 3x3 feature max pooling, <br/> 2 dense hidden layers with  300 and 100 nodes, all ReLU, <br/> softmax output, <br/> SGD optimizer and cross-entropy loss fct., <br/> 20 epochs   | .9887 |\n",
    "| 2 | Multilayer Perceptron (MLP-ANN)        | 2 dense hidden layers, 784 and 784 nodes (ReLU), <br/> softmax output, <br/> SGD optimizer, cross-entropy lossfct., <br/> 20 epochs | .9789 |\n",
    "| 3 | K-Nearest Neighbours (KNN), SVD dimensionality reduction | 3 nearest neighbours, <br/> Dimensionality reduction with SVD using 50 largest singular values | .9754 |"
   ]
  },
  {
   "cell_type": "markdown",
   "metadata": {},
   "source": [
    "***\n",
    "## Notes on improvement ideas:\n",
    "\n",
    "__For both neural nets__\n",
    "- Optimize hyperparameters further\n",
    "    - Train for more epochs (or, stop early if no improvements)\n",
    "        - BUT: For both models, there were signs that further training could cause over-fitting.\n",
    "    - Change learning rate\n",
    "        - The standard was used.\n",
    "    - Change optimizer to something else than Stochastic Gradient Descent\n",
    "    - Try different activation functions than ReLU\n",
    "    - Fiddle with the batch size\n",
    "    - Change the dropout rates (re-normalization and reduce overfitting)\n",
    "        - $0.15$ was used, which might be on the low side.\n",
    "        - Could be analyzed if any improvements at $0.2$, $0.3$, etc.\n",
    "- Optimize structure\n",
    "    - Change the number of neurons per layer, BUT\n",
    "        - CNN: Two layers of $784$ neurons each gave same result as $300$ + $100$, so the number of neurons is _not_ the limiting factor in this classifier (no marginal effect). However, there were signs that the model was becoming over-fitted for the in-sample data.\n",
    "        - MLP: Going from layer neuron counts of $300$ and $100$ to $2$ layers with $784$, did have a marginally positive effect ($97.63\\%$ -> $97.89\\%$ on the out-of-sample test), but like the CNN, there were signs that further training would have over-fitted the model to the in-sample data.\n",
    "    - Add more layers (again, be careful of over-fitting)\n",
    "        - Due to the above, any new layers should be convolutional / pooling for the CNN.\n",
    "        - Unlikely that more dense layers will improve the MLP, already \"enough\" neurons available.\n",
    "- Perform dimensionality reduction on input data (to remove noise)\n",
    "\n",
    "\n",
    "__CNN__\n",
    "- Further convolutional layers\n",
    "    - However, having two Conv2D layers with $16$ filters each and $3 \\times 3$ and $5 \\times 5$ kernels did not improve the model\n",
    "- Different pooling structure could be attempted\n",
    "\n",
    "__MLP-ANN__\n",
    "- Mainly the hyperparameters mentioned above\n",
    "\n",
    "__KNN__\n",
    "- Usually $K=3$ is a sweet spot, but for different slicing of the data, try to change $K$ to compare with more neighbours, and see if accuracy improves.\n",
    "- Use higher dimensionality than 50% to include more variance, while still doing noise suppression.\n",
    "- Using PCA instead of SVD had little effect, as they essentially do the same thing. I prefer SVD as one does not need to do normalization, the data is still recognizable.\n",
    "\n",
    "__General Analysis__\n",
    "- More insight into causes of errors in the classification (confusion matrix)\n",
    "- Ensuring that training sets and test sets are evenly distributed (both representative)\n",
    "- Many more models could be interesting to try out."
   ]
  },
  {
   "cell_type": "markdown",
   "metadata": {},
   "source": [
    "***\n",
    "## Conclusion\n",
    "\n",
    "For this supervised learning/classification task, two different types of Neural Networks and a classical model, KNN, were implemented. \n",
    "\n",
    "The highest accuracy was achieved by the CNN with $98.87 \\%$. It has about $339,000$ trainable parameters. It is also the most complex structure and is the slowest to train. \n",
    "\n",
    "The other Neural Network, an MLP Network (or just \"regular network\"), performed fairly well too with $97.89 \\%$, while being somewhat faster to train. Due to the higher number of neurons in the two hidden layers, it has about $1,240,000$ trainable parameters. \n",
    "\n",
    "Besides a 2D convolution layer and the attached feature pooling layer, the two networks have similar structure in the fully connected layers. Adding more neurons to the dense layers in the CNN has no marginal effect: So the very significant $0.98\\%$-points difference in accuracy is purely due to the convolutional layer (same random seeding used).\n",
    "\n",
    "The last model, a 3-neighbours KNN, performed surprisingly well too with $97.54 \\%$, only marginally less than the second neural net. Further, it is instantaneous to train due to lazy-learning (in purest form, all lazy and no fitting, in Scikit a graph can be fitted). Its main downside is _very_ slow classification for high-dimensionality data like images (computing the $L_2$ norm $N$ times is slow / computationally complex).\n",
    "\n",
    "For that reason, data dimensionality was reduced. The original dimension is $784$ ($28 \\times 28$). By decomposing the $N \\times 784$ matrix with the Singular Value Decomposition (SVD) and choosing only the $50$ largest singular values, $82.44 \\%$ of the dataset variance is retained, noise is reduced and _significantly_ faster prediction and scoring is achieved.\n",
    "\n",
    "Finally, a number of notes and ideas for improvement have been listed.\n",
    "\n",
    "According to the original webpage for the MNIST data (see [Yann LeCun](http://yann.lecun.com/exdb/mnist/)), the best performing CNN has an accuracy of $99.73 \\%$. According to the competition at Kaggle (see [Kaggle Benchmark](https://paperswithcode.com/sota/image-classification-on-mnist)), the best is at $99.84 \\%$. Either way, there is significant room for improvement. On the other hand, it is impressive that a free, and open-source Python library enables you to get so \"close\" to best-in-class."
   ]
  },
  {
   "cell_type": "markdown",
   "metadata": {},
   "source": [
    "***"
   ]
  },
  {
   "cell_type": "markdown",
   "metadata": {},
   "source": [
    "# The MNIST dataset: Load and split into training, cross-validation and hold-out testing\n",
    "This is a dataset of with $60,000$ training samples and $10,000$ test samples. The data is $28 \\times 28$ grayscale images of the digits $0-9$ ($X$) and corresponding class labels ($y$). \n",
    "Source: [Keras MNIST](https://keras.io/api/datasets/mnist/).\n",
    "- Input: $28 \\times 28$ grayscale images (uint8)\n",
    "- Output: Sparse labels $0, \\ldots, 9$. -> Exclusive in $1$ of $10$ classes -> Multiclass classification"
   ]
  },
  {
   "cell_type": "code",
   "execution_count": 1,
   "metadata": {},
   "outputs": [],
   "source": [
    "from keras.datasets import mnist\n",
    "(x_train_all, y_train_all), (x_test, y_test) = mnist.load_data();"
   ]
  },
  {
   "cell_type": "markdown",
   "metadata": {},
   "source": [
    "#### Pre-process the data\n",
    "- Split the training set:\n",
    "    - Reduce training set to $57,000$ items, in order to make\n",
    "    - Cross-validation set with $3,000$ items. This is used for hyperparameter tuning.\n",
    "- Normalize x-data to floating point in range $[0; 1]$\n"
   ]
  },
  {
   "cell_type": "code",
   "execution_count": 2,
   "metadata": {},
   "outputs": [],
   "source": [
    "N = x_train_all.shape[0]                      # Total items\n",
    "N_test = x_test.shape[0]                      # Hold-out test items\n",
    "i_m, i_n =  x_train_all.shape[1:]             # Image (m x n) matrix (1D tensor)\n",
    "\n",
    "N_validation = 3000                           # Use 5% of training set for validation in each epoch\n",
    "N_train = N - N_validation                    # Remaining for training\n",
    "\n",
    "x_train = x_train_all[N_validation:] / 255.   # Normalization and casting to float\n",
    "y_train = y_train_all[N_validation:]\n",
    "\n",
    "x_validation = x_train_all[:N_validation] / 255.\n",
    "y_validation = y_train_all[:N_validation]\n",
    "\n",
    "x_test = x_test / 255."
   ]
  },
  {
   "cell_type": "markdown",
   "metadata": {},
   "source": [
    "***"
   ]
  },
  {
   "cell_type": "code",
   "execution_count": 3,
   "metadata": {},
   "outputs": [],
   "source": [
    "import numpy as np\n",
    "import matplotlib.pyplot as plt\n",
    "import tensorflow as tf\n",
    "from tensorflow import keras\n",
    "import pandas as pd\n",
    "from sklearn.neighbors import KNeighborsClassifier\n",
    "from sklearn.decomposition import TruncatedSVD"
   ]
  },
  {
   "cell_type": "markdown",
   "metadata": {},
   "source": [
    "***\n",
    "# 1. Convolutional Neural Network (CNN)"
   ]
  },
  {
   "cell_type": "code",
   "execution_count": 4,
   "metadata": {},
   "outputs": [],
   "source": [
    "keras.backend.clear_session()\n",
    "np.random.seed(1)\n",
    "tf.random.set_seed(1)"
   ]
  },
  {
   "cell_type": "code",
   "execution_count": 5,
   "metadata": {},
   "outputs": [],
   "source": [
    "# Reshape to tensors, 1 deep for greyscale\n",
    "X = x_train.reshape((N_train, i_m, i_n, 1))\n",
    "Y = y_train\n",
    "Xv = x_validation.reshape((N_validation, i_m, i_n, 1))\n",
    "Yv = y_validation\n",
    "Xt = x_test.reshape((N_test, i_m, i_n, 1))\n",
    "Yt = y_test"
   ]
  },
  {
   "cell_type": "code",
   "execution_count": 6,
   "metadata": {},
   "outputs": [
    {
     "name": "stdout",
     "output_type": "stream",
     "text": [
      "Model: \"sequential\"\n",
      "_________________________________________________________________\n",
      "Layer (type)                 Output Shape              Param #   \n",
      "=================================================================\n",
      "conv2d (Conv2D)              (None, 24, 24, 16)        416       \n",
      "_________________________________________________________________\n",
      "max_pooling2d (MaxPooling2D) (None, 8, 8, 16)          0         \n",
      "_________________________________________________________________\n",
      "flatten (Flatten)            (None, 1024)              0         \n",
      "_________________________________________________________________\n",
      "dense (Dense)                (None, 300)               307500    \n",
      "_________________________________________________________________\n",
      "dropout (Dropout)            (None, 300)               0         \n",
      "_________________________________________________________________\n",
      "dense_1 (Dense)              (None, 100)               30100     \n",
      "_________________________________________________________________\n",
      "dropout_1 (Dropout)          (None, 100)               0         \n",
      "_________________________________________________________________\n",
      "dense_2 (Dense)              (None, 10)                1010      \n",
      "=================================================================\n",
      "Total params: 339,026\n",
      "Trainable params: 339,026\n",
      "Non-trainable params: 0\n",
      "_________________________________________________________________\n"
     ]
    }
   ],
   "source": [
    "# CNN model structure\n",
    "n_filters = 16        # 16 filters\n",
    "cnn_kernel = 5        # 5x5 convolution kernel, seems good to find the kinds of features that are in MNIST\n",
    "batch_size = 1\n",
    "pooling_kernel = 3    # 3x3 feature pooling\n",
    "dropout_rate = 0.15\n",
    "\n",
    "model_cnn = keras.models.Sequential([\n",
    "    keras.Input(shape = (i_m, i_m, 1)),             # Pre-processing input layer\n",
    "    keras.layers.Conv2D(\n",
    "        n_filters, \n",
    "        kernel_size = cnn_kernel, \n",
    "        activation = \"relu\", \n",
    "        input_shape = [batch_size, i_m, i_n, 1]\n",
    "    ),\n",
    "    keras.layers.MaxPooling2D(pooling_kernel),      # (n x n) maximum feature pooling\n",
    "    keras.layers.Flatten(),                         # Flatten feature tensor for onwards layer\n",
    "    keras.layers.Dense(300, activation=\"relu\"),     # Fully-connected hidden layer\n",
    "    keras.layers.Dropout(dropout_rate),             # To avoid overfitting\n",
    "    keras.layers.Dense(100, activation=\"relu\"),     # Fully-connected hidden layer\n",
    "    keras.layers.Dropout(dropout_rate),             # To avoid overfitting\n",
    "    keras.layers.Dense(10, activation=\"softmax\")    # Output layer for exclusive classes\n",
    "])\n",
    "\n",
    "model_cnn.summary()"
   ]
  },
  {
   "cell_type": "code",
   "execution_count": 7,
   "metadata": {},
   "outputs": [],
   "source": [
    "# Compile model with cross-entropy loss fct., using stochastic gradient descent opt. (def. learning rate)\n",
    "model_cnn.compile(\n",
    "    loss = \"sparse_categorical_crossentropy\",\n",
    "    optimizer = \"sgd\",\n",
    "    metrics = [\"accuracy\"]\n",
    ")"
   ]
  },
  {
   "cell_type": "code",
   "execution_count": 8,
   "metadata": {},
   "outputs": [],
   "source": [
    "# Train\n",
    "history = model_cnn.fit(\n",
    "    X, \n",
    "    Y, \n",
    "    epochs = 20,\n",
    "    validation_data=(Xv, Yv),\n",
    "    verbose = 0\n",
    ")"
   ]
  },
  {
   "cell_type": "markdown",
   "metadata": {},
   "source": [
    "Scoring using the validation data shows the result after tuning hyper parameters. __Be aware__ that validation data could have been used for optimizing hyper parameters, and therefore is likely to be subject to overfitting!"
   ]
  },
  {
   "cell_type": "code",
   "execution_count": 9,
   "metadata": {},
   "outputs": [
    {
     "name": "stdout",
     "output_type": "stream",
     "text": [
      "94/94 [==============================] - 0s 4ms/step - loss: 0.0455 - accuracy: 0.9860\n"
     ]
    }
   ],
   "source": [
    "score_cnn_val =  model_cnn.evaluate(Xv, Yv)"
   ]
  },
  {
   "cell_type": "markdown",
   "metadata": {},
   "source": [
    "The **real accuracy score** for the model is **$98.87 \\%$** by using the hold-out test data, which was _not_ used for hyperparameter tuning:"
   ]
  },
  {
   "cell_type": "code",
   "execution_count": 10,
   "metadata": {},
   "outputs": [
    {
     "name": "stdout",
     "output_type": "stream",
     "text": [
      "313/313 [==============================] - 1s 4ms/step - loss: 0.0308 - accuracy: 0.9887\n"
     ]
    }
   ],
   "source": [
    "score_cnn_test = model_cnn.evaluate(Xt, Yt)"
   ]
  },
  {
   "cell_type": "markdown",
   "metadata": {},
   "source": [
    "Check for model overfitting by seeing that validation accuracy and epoch accuracy track nicely, and that the final hold-out test accuracy is close to the line of convergence."
   ]
  },
  {
   "cell_type": "code",
   "execution_count": 11,
   "metadata": {},
   "outputs": [
    {
     "data": {
      "image/png": "[encoded data removed]",
      "text/plain": [
       "<Figure size 576x360 with 1 Axes>"
      ]
     },
     "metadata": {
      "needs_background": "light"
     },
     "output_type": "display_data"
    }
   ],
   "source": [
    "h = {k: v for k, v in history.history.items() if k in ['accuracy', 'val_accuracy']}\n",
    "pd.DataFrame(h).plot(figsize=(8, 5))\n",
    "plt.axhline(score_cnn_test[1], color='r', label='Final hold-out test accuracy')\n",
    "plt.legend()\n",
    "plt.title('Accuracy score over the epochs')\n",
    "plt.show()"
   ]
  },
  {
   "cell_type": "markdown",
   "metadata": {},
   "source": [
    "***\n",
    "# 2. Multi-Layer Perceptron Network, regular ANN (MLP-ANN)\n",
    "Feed-forward type with fully-connected (dense) layers"
   ]
  },
  {
   "cell_type": "code",
   "execution_count": 12,
   "metadata": {},
   "outputs": [],
   "source": [
    "keras.backend.clear_session()\n",
    "np.random.seed(1)\n",
    "tf.random.set_seed(1)"
   ]
  },
  {
   "cell_type": "code",
   "execution_count": 13,
   "metadata": {},
   "outputs": [
    {
     "name": "stdout",
     "output_type": "stream",
     "text": [
      "Model: \"sequential\"\n",
      "_________________________________________________________________\n",
      "Layer (type)                 Output Shape              Param #   \n",
      "=================================================================\n",
      "flatten (Flatten)            (None, 784)               0         \n",
      "_________________________________________________________________\n",
      "dense (Dense)                (None, 784)               615440    \n",
      "_________________________________________________________________\n",
      "dropout (Dropout)            (None, 784)               0         \n",
      "_________________________________________________________________\n",
      "dense_1 (Dense)              (None, 784)               615440    \n",
      "_________________________________________________________________\n",
      "dropout_1 (Dropout)          (None, 784)               0         \n",
      "_________________________________________________________________\n",
      "dense_2 (Dense)              (None, 10)                7850      \n",
      "=================================================================\n",
      "Total params: 1,238,730\n",
      "Trainable params: 1,238,730\n",
      "Non-trainable params: 0\n",
      "_________________________________________________________________\n"
     ]
    }
   ],
   "source": [
    "model_mlp = keras.models.Sequential([\n",
    "    keras.layers.Flatten(input_shape = (i_m, i_m)), # # pre-processing input layerFlatten tensor for onwards layer\n",
    "    keras.layers.Dense(784, activation=\"relu\"),     # fully-connected hidden layer\n",
    "    keras.layers.Dropout(0.15),                     # To avoid overfitting\n",
    "    keras.layers.Dense(784, activation=\"relu\"),     # fully-connected hidden layer\n",
    "    keras.layers.Dropout(0.15),                     # To avoid overfitting\n",
    "    keras.layers.Dense(10, activation=\"softmax\")    # output layer for exclusive classes\n",
    "])\n",
    "\n",
    "model_mlp.summary()"
   ]
  },
  {
   "cell_type": "code",
   "execution_count": 14,
   "metadata": {},
   "outputs": [],
   "source": [
    "# Compile model with cross-entropy loss fct., using stochastic gradient descent opt. (def. learning rate)\n",
    "model_mlp.compile(\n",
    "    loss = \"sparse_categorical_crossentropy\",\n",
    "    optimizer = \"sgd\",\n",
    "    metrics = [\"accuracy\"]\n",
    ")"
   ]
  },
  {
   "cell_type": "code",
   "execution_count": 15,
   "metadata": {},
   "outputs": [],
   "source": [
    "# Train\n",
    "history_mlp = model_mlp.fit(\n",
    "    x_train, \n",
    "    y_train, \n",
    "    epochs = 20,\n",
    "    validation_data=(x_validation, y_validation),\n",
    "    verbose = 0\n",
    ")"
   ]
  },
  {
   "cell_type": "markdown",
   "metadata": {},
   "source": [
    "Scoring using the validation data shows the validation data on the final model. Be aware that validation could have been used for optimizing hyper parameters, and can be subject to overfitting!"
   ]
  },
  {
   "cell_type": "code",
   "execution_count": 16,
   "metadata": {},
   "outputs": [
    {
     "name": "stdout",
     "output_type": "stream",
     "text": [
      "94/94 [==============================] - 0s 3ms/step - loss: 0.0805 - accuracy: 0.9767\n"
     ]
    }
   ],
   "source": [
    "score_mlp_val = model_mlp.evaluate(x_validation, y_validation)"
   ]
  },
  {
   "cell_type": "markdown",
   "metadata": {},
   "source": [
    "The **real accuracy score** for the model is **$97.89 \\%$** by using the hold-out test data, which was _not_ used for hyperparameter tuning:"
   ]
  },
  {
   "cell_type": "code",
   "execution_count": 17,
   "metadata": {},
   "outputs": [
    {
     "name": "stdout",
     "output_type": "stream",
     "text": [
      "313/313 [==============================] - 1s 3ms/step - loss: 0.0702 - accuracy: 0.9789\n"
     ]
    }
   ],
   "source": [
    "score_mlp_test = model_mlp.evaluate(x_test, y_test)"
   ]
  },
  {
   "cell_type": "markdown",
   "metadata": {},
   "source": [
    "Check for model overfitting by seeing that validation accuracy and epoch accuracy track nicely, and that the final hold-out test accuracy is close to the line of convergence.\n",
    "\n",
    "The chart shows that in-sample accuracy is overperforming the cross-validation set and the final test set. This is a clear indication that the classifier is becoming over-fitted!"
   ]
  },
  {
   "cell_type": "code",
   "execution_count": 18,
   "metadata": {},
   "outputs": [
    {
     "data": {
      "image/png": "[encoded data removed]",
      "text/plain": [
       "<Figure size 576x360 with 1 Axes>"
      ]
     },
     "metadata": {
      "needs_background": "light"
     },
     "output_type": "display_data"
    }
   ],
   "source": [
    "h = {k: v for k, v in history_mlp.history.items() if k in ['accuracy', 'val_accuracy']}\n",
    "pd.DataFrame(h).plot(figsize=(8, 5))\n",
    "plt.axhline(score_mlp_test[1], color='r', label='Final hold-out test accuracy')\n",
    "plt.legend()\n",
    "plt.title('Accuracy score over the epochs')\n",
    "plt.show()"
   ]
  },
  {
   "cell_type": "markdown",
   "metadata": {},
   "source": [
    "# 3. K-Nearest Neighbours"
   ]
  },
  {
   "cell_type": "code",
   "execution_count": 19,
   "metadata": {},
   "outputs": [],
   "source": [
    "# Reshape data to N x 784 matrices\n",
    "# Only use the same training data as for the neural nets, to be fair.\n",
    "X = x_train.reshape(N_train, -1)\n",
    "y = y_train\n",
    "Xt = x_test.reshape(N_test, -1)\n",
    "yt = y_test"
   ]
  },
  {
   "cell_type": "markdown",
   "metadata": {},
   "source": [
    "Reduce the data dimensionality by the Singular Value Decomposition. Use 50 largest singular values."
   ]
  },
  {
   "cell_type": "code",
   "execution_count": 20,
   "metadata": {},
   "outputs": [
    {
     "data": {
      "text/plain": [
       "TruncatedSVD(n_components=50, n_iter=10, random_state=1)"
      ]
     },
     "execution_count": 20,
     "metadata": {},
     "output_type": "execute_result"
    }
   ],
   "source": [
    "svd = TruncatedSVD(\n",
    "    n_components=50,\n",
    "    n_iter=10,\n",
    "    random_state=1\n",
    ")\n",
    "svd.fit(X)"
   ]
  },
  {
   "cell_type": "markdown",
   "metadata": {},
   "source": [
    "The 50 largest singular values explain $82.44 \\%$ of the variance. This method likely removes a lot of noise."
   ]
  },
  {
   "cell_type": "code",
   "execution_count": 21,
   "metadata": {},
   "outputs": [
    {
     "name": "stdout",
     "output_type": "stream",
     "text": [
      "Explained var.: 82.44%\n"
     ]
    }
   ],
   "source": [
    "print(f\"Explained var.: {round(sum(svd.explained_variance_ratio_)*100, 2)}%\")"
   ]
  },
  {
   "cell_type": "code",
   "execution_count": 22,
   "metadata": {},
   "outputs": [],
   "source": [
    "Xsvd = svd.transform(X)"
   ]
  },
  {
   "cell_type": "markdown",
   "metadata": {},
   "source": [
    "Set up a $K=3$-neighbours model"
   ]
  },
  {
   "cell_type": "code",
   "execution_count": 23,
   "metadata": {},
   "outputs": [],
   "source": [
    "model_knn_svd = KNeighborsClassifier(\n",
    "    n_neighbors=3,     # look at 3 nearest\n",
    "    n_jobs=-1          # this can be slow high dimensionality, so use all cpu cores\n",
    ")"
   ]
  },
  {
   "cell_type": "markdown",
   "metadata": {},
   "source": [
    "Fit the model, takes no time (really just lazy training)"
   ]
  },
  {
   "cell_type": "code",
   "execution_count": 24,
   "metadata": {},
   "outputs": [
    {
     "data": {
      "text/plain": [
       "KNeighborsClassifier(n_jobs=-1, n_neighbors=3)"
      ]
     },
     "execution_count": 24,
     "metadata": {},
     "output_type": "execute_result"
    }
   ],
   "source": [
    "model_knn_svd.fit(Xsvd, y)"
   ]
  },
  {
   "cell_type": "markdown",
   "metadata": {},
   "source": [
    "Score the model by transforming the hold-out testing set by the same SVD matrix decomposition. This still takes a few seconds to do, as $10,000$ vectors with $50$ parameters have the $L_2$ norm calculated."
   ]
  },
  {
   "cell_type": "code",
   "execution_count": 25,
   "metadata": {},
   "outputs": [
    {
     "data": {
      "text/plain": [
       "0.9754"
      ]
     },
     "execution_count": 25,
     "metadata": {},
     "output_type": "execute_result"
    }
   ],
   "source": [
    "model_knn_svd.score(svd.transform(Xt), yt)"
   ]
  },
  {
   "cell_type": "markdown",
   "metadata": {},
   "source": [
    "The out-of-sample accuracy is $97.54 \\%$, which is very nice for such a simple model."
   ]
  }
 ],
 "metadata": {
  "kernelspec": {
   "display_name": "Python 3",
   "language": "python",
   "name": "python3"
  },
  "language_info": {
   "codemirror_mode": {
    "name": "ipython",
    "version": 3
   },
   "file_extension": ".py",
   "mimetype": "text/x-python",
   "name": "python",
   "nbconvert_exporter": "python",
   "pygments_lexer": "ipython3",
   "version": "3.8.6"
  }
 },
 "nbformat": 4,
 "nbformat_minor": 4
}
